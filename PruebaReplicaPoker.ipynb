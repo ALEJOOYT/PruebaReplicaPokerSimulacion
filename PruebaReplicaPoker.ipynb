{
  "nbformat": 4,
  "nbformat_minor": 0,
  "metadata": {
    "colab": {
      "provenance": [],
      "include_colab_link": true
    },
    "kernelspec": {
      "name": "ir",
      "display_name": "R"
    },
    "language_info": {
      "name": "R"
    }
  },
  "cells": [
    {
      "cell_type": "markdown",
      "metadata": {
        "id": "view-in-github",
        "colab_type": "text"
      },
      "source": [
        "<a href=\"https://colab.research.google.com/github/ALEJOOYT/PruebaReplicaPokerSimulacion/blob/main/PruebaReplicaPoker.ipynb\" target=\"_parent\"><img src=\"https://colab.research.google.com/assets/colab-badge.svg\" alt=\"Open In Colab\"/></a>"
      ]
    },
    {
      "cell_type": "markdown",
      "source": [
        "# <center>Escuela Militar de Ingeniería</center>\n",
        "<center>Ingeniería de Sistemas</center>\n",
        "<center><img src=\"https://i.servimg.com/u/f73/20/03/60/99/logo_i12.jpg\" width=\"300\"></center>\n",
        "<center>Estudiante: Zalles Merino Izai Alejandro</center>\n",
        "<center>Código SAGA: A27006-7</center>\n",
        "\n",
        "## <center>Docente: Ing. Angela Santos</center>\n",
        "## Fecha: 21 de Abril de 2025"
      ],
      "metadata": {
        "id": "2KRIzh1m18TO"
      }
    },
    {
      "cell_type": "code",
      "execution_count": 1,
      "metadata": {
        "id": "A_h6mFvVz-5v"
      },
      "outputs": [],
      "source": [
        "# Función para clasificar una mano tipo póker\n",
        "ClasificarMano <- function(mano) {\n",
        "  # Contamos la frecuencia de cada dígito\n",
        "  frecuencias <- table(mano)\n",
        "  cantidades <- sort(as.numeric(frecuencias), decreasing = TRUE)\n",
        "\n",
        "  if (length(cantidades) == 1) {\n",
        "    return(\"Quíntuple\")  # Todos los dígitos son iguales\n",
        "  } else if (length(cantidades) == 2 && cantidades[1] == 4) {\n",
        "    return(\"Cuádruple\")\n",
        "  } else if (length(cantidades) == 2 && cantidades[1] == 3) {\n",
        "    return(\"Full\")\n",
        "  } else if (length(cantidades) == 3 && cantidades[1] == 3) {\n",
        "    return(\"Tercia\")\n",
        "  } else if (length(cantidades) == 3 && cantidades[1] == 2 && cantidades[2] == 2) {\n",
        "    return(\"Dos pares\")\n",
        "  } else if (length(cantidades) == 4) {\n",
        "    return(\"Par\")\n",
        "  } else {\n",
        "    return(\"Todos diferentes\")\n",
        "  }\n",
        "}"
      ]
    },
    {
      "cell_type": "code",
      "source": [
        "# ---------------------------------------\n",
        "# Función principal para realizar la prueba de réplica póker\n",
        "PruebaReplicaPoker <- function(serie) {\n",
        "  # Paso 1: Preparamos los dígitos como caracteres y los agrupamos en bloques de 5\n",
        "  serieTexto <- gsub(\"\\\\.\", \"\", as.character(serie))  # Quitamos el punto decimal\n",
        "  digitos <- unlist(strsplit(serieTexto, \"\"))  # Convertimos a lista de dígitos\n",
        "  digitos <- digitos[digitos %in% as.character(0:9)]  # Solo dígitos válidos\n",
        "\n",
        "  bloques <- split(digitos, ceiling(seq_along(digitos) / 5))  # Agrupamos en bloques de 5\n",
        "\n",
        "  # Paso 2: Clasificamos cada bloque como una \"mano\" tipo póker\n",
        "  clasificaciones <- sapply(bloques, function(bloque) {\n",
        "    if (length(bloque) == 5) {\n",
        "      ClasificarMano(bloque)\n",
        "    } else {\n",
        "      return(NULL)\n",
        "    }\n",
        "  })\n",
        "\n",
        "  clasificaciones <- na.omit(clasificaciones)  # Quitamos bloques incompletos\n",
        "\n",
        "  # Paso 3: Contamos las frecuencias observadas\n",
        "  categorias <- c(\"Todos diferentes\", \"Par\", \"Dos pares\", \"Tercia\", \"Full\", \"Cuádruple\", \"Quíntuple\")\n",
        "  frecuenciasObservadas <- table(factor(clasificaciones, levels = categorias))\n",
        "\n",
        "  # Paso 4: Frecuencias esperadas (según teoría del póker)\n",
        "  n <- sum(frecuenciasObservadas)\n",
        "  probabilidades <- c(0.3024, 0.5040, 0.1080, 0.0720, 0.0090, 0.0045, 0.0001)\n",
        "  frecuenciasEsperadas <- probabilidades * n\n",
        "\n",
        "  # Paso 5: Calculamos el estadístico Chi Cuadrado\n",
        "  chiCuadrado <- sum((frecuenciasObservadas - frecuenciasEsperadas)^2 / frecuenciasEsperadas)\n",
        "  gradosLibertad <- length(categorias) - 1\n",
        "  valorCritico <- qchisq(0.95, df = gradosLibertad)\n",
        "  rechazarHipotesis <- chiCuadrado > valorCritico\n",
        "\n",
        "  # Paso 6: Resultado\n",
        "  resultado <- list(\n",
        "    clasificaciones = clasificaciones,\n",
        "    frecuenciasObservadas = frecuenciasObservadas,\n",
        "    frecuenciasEsperadas = frecuenciasEsperadas,\n",
        "    chiCuadrado = chiCuadrado,\n",
        "    valorCritico = valorCritico,\n",
        "    gradosLibertad = gradosLibertad,\n",
        "    rechazarHipotesis = rechazarHipotesis\n",
        "  )\n",
        "\n",
        "  return(resultado)\n",
        "}"
      ],
      "metadata": {
        "id": "sKtpkR3e0El3"
      },
      "execution_count": 2,
      "outputs": []
    },
    {
      "cell_type": "code",
      "source": [
        "# ---------------------------------------\n",
        "# Interfaz de consola para el usuario\n",
        "\n",
        "CatBienvenidaPoker <- function() {\n",
        "  cat(\"\\n==============================\\n\")\n",
        "  cat(\"   Prueba de Réplica Poker\\n\")\n",
        "  cat(\"==============================\\n\")\n",
        "  cat(\"Introduce una serie de números [0,1) separados por comas (ej. 0.12345, 0.67890):\\n\")\n",
        "}"
      ],
      "metadata": {
        "id": "v4ZYskNS0HK_"
      },
      "execution_count": 3,
      "outputs": []
    },
    {
      "cell_type": "code",
      "source": [
        "LeerSeriePoker <- function() {\n",
        "  entrada <- readline(prompt = \"Ingresa la serie: \")\n",
        "  serieNumeros <- as.numeric(strsplit(entrada, \",\")[[1]])\n",
        "\n",
        "  if (any(is.na(serieNumeros)) || any(serieNumeros < 0 | serieNumeros >= 1)) {\n",
        "    cat(\"\\nError: Todos los valores deben estar en el intervalo [0, 1).\\n\")\n",
        "    return(NULL)\n",
        "  }\n",
        "\n",
        "  return(serieNumeros)\n",
        "}"
      ],
      "metadata": {
        "id": "Wg8WV9gA0JKL"
      },
      "execution_count": 4,
      "outputs": []
    },
    {
      "cell_type": "code",
      "source": [
        "MostrarResultadoPoker <- function(resultado) {\n",
        "  cat(\"\\n==============================\\n\")\n",
        "  cat(\"Resultados de la Prueba de Réplica Poker:\\n\")\n",
        "  cat(\"==============================\\n\")\n",
        "  cat(\"Frecuencias observadas por categoría:\\n\")\n",
        "  print(resultado$frecuenciasObservadas)\n",
        "\n",
        "  cat(\"\\nFrecuencias esperadas por categoría:\\n\")\n",
        "  print(round(resultado$frecuenciasEsperadas, 2))\n",
        "\n",
        "  cat(\"\\nEstadístico Chi Cuadrado calculado:\\n\")\n",
        "  print(resultado$chiCuadrado)\n",
        "\n",
        "  cat(\"\\nGrados de libertad:\\n\")\n",
        "  print(resultado$gradosLibertad)\n",
        "\n",
        "  cat(\"\\nValor crítico (al 95% de confianza):\\n\")\n",
        "  print(resultado$valorCritico)\n",
        "\n",
        "  cat(\"\\n¿Se rechaza la hipótesis de aleatoriedad?\\n\")\n",
        "  if (resultado$rechazarHipotesis) {\n",
        "    cat(\"Sí, se rechaza la hipótesis (los dígitos no son aleatorios).\\n\")\n",
        "  } else {\n",
        "    cat(\"No, no se rechaza la hipótesis (los dígitos son aleatorios).\\n\")\n",
        "  }\n",
        "}"
      ],
      "metadata": {
        "id": "W7OZR5LO0KwM"
      },
      "execution_count": 5,
      "outputs": []
    },
    {
      "cell_type": "code",
      "source": [
        "# ---------------------------------------\n",
        "# Función principal\n",
        "PruebaReplicaPokerInteractiva <- function() {\n",
        "  CatBienvenidaPoker()\n",
        "  serie <- LeerSeriePoker()\n",
        "\n",
        "  if (!is.null(serie)) {\n",
        "    resultado <- PruebaReplicaPoker(serie)\n",
        "    MostrarResultadoPoker(resultado)\n",
        "  }\n",
        "}"
      ],
      "metadata": {
        "id": "tbP2FMYR0Mad"
      },
      "execution_count": 6,
      "outputs": []
    },
    {
      "cell_type": "code",
      "source": [
        "# Ejecutar el programa\n",
        "PruebaReplicaPokerInteractiva()"
      ],
      "metadata": {
        "id": "pTBh5YPD0Npi",
        "colab": {
          "base_uri": "https://localhost:8080/"
        },
        "outputId": "99e55d6d-96bb-43fd-8411-c9a1e30aa909"
      },
      "execution_count": 7,
      "outputs": [
        {
          "output_type": "stream",
          "name": "stdout",
          "text": [
            "Ingresa la serie: 0.12345, 0.67890\n",
            "\n",
            "==============================\n",
            "   Prueba de Réplica Poker\n",
            "==============================\n",
            "Introduce una serie de números [0,1) separados por comas (ej. 0.12345, 0.67890):\n",
            "\n",
            "==============================\n",
            "Resultados de la Prueba de Réplica Poker:\n",
            "==============================\n",
            "Frecuencias observadas por categoría:\n",
            "\n",
            "Todos diferentes              Par        Dos pares           Tercia \n",
            "               2                0                0                0 \n",
            "            Full        Cuádruple        Quíntuple \n",
            "               0                0                0 \n",
            "\n",
            "Frecuencias esperadas por categoría:\n",
            "[1] 0.60 1.01 0.22 0.14 0.02 0.01 0.00\n",
            "\n",
            "Estadístico Chi Cuadrado calculado:\n",
            "[1] 4.613757\n",
            "\n",
            "Grados de libertad:\n",
            "[1] 6\n",
            "\n",
            "Valor crítico (al 95% de confianza):\n",
            "[1] 12.59159\n",
            "\n",
            "¿Se rechaza la hipótesis de aleatoriedad?\n",
            "No, no se rechaza la hipótesis (los dígitos son aleatorios).\n"
          ]
        }
      ]
    }
  ]
}